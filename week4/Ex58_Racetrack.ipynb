{
 "cells": [
  {
   "cell_type": "markdown",
   "metadata": {},
   "source": [
    "## Exercise 5.8: Racetrack (programming) \n",
    "Consider driving a race car around a turn like those shown in Figure 5.5. You want to go as fast as possible, but not so fast as to run off the track. In our simplified racetrack, the car is at one of a discrete set of grid positions, the cells in the diagram. \n",
    "* The velocity is also discrete, a number of grid cells moved horizontally and vertically per time step. \n",
    "* The actions are increments to the velocity components. Each may be changed by +1, −1, or 0 in one step, for a total of nine actions. \n",
    "* Both velocity components are restricted to be nonnegative and less than 5, and they cannot both be zero except at the starting line. \n",
    "* Each episode begins in one of the randomly selected start states with both velocity components zero and ends when the car crosses the finish line. \n",
    "* The rewards are −1 for each step until the car crosses the finish line. \n",
    "* If the car hits the track boundary, it is moved back to a random position on the starting line, both velocity components are reduced to zero, and the episode continues. \n",
    "* Before updating the car’s location at each time step, check to see if the projected path of the car intersects the track boundary. If it intersects the finish line, the episode ends; if it intersects anywhere else, the car is considered to have hit the track boundary and is sent back to the starting line. \n",
    "* To make the task more challenging, with probability 0.1 at each time step the velocity increments are both zero, independently of the intended increments. \n",
    "\n",
    "Apply a Monte Carlo control method to this task to compute the optimal policy from each starting state. Exhibit several trajectories following the optimal policy (but turn the noise off for these trajectories).\n",
    "\n",
    "<img src=\"racetrack.png\" width=\"600\">"
   ]
  },
  {
   "cell_type": "code",
   "execution_count": null,
   "metadata": {},
   "outputs": [],
   "source": []
  }
 ],
 "metadata": {
  "kernelspec": {
   "display_name": "Python 3",
   "language": "python",
   "name": "python3"
  },
  "language_info": {
   "codemirror_mode": {
    "name": "ipython",
    "version": 3
   },
   "file_extension": ".py",
   "mimetype": "text/x-python",
   "name": "python",
   "nbconvert_exporter": "python",
   "pygments_lexer": "ipython3",
   "version": "3.7.3"
  }
 },
 "nbformat": 4,
 "nbformat_minor": 2
}
