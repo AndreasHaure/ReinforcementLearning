{
 "cells": [
  {
   "cell_type": "markdown",
   "metadata": {},
   "source": [
    "## Exercise 5.8: Racetrack (programming) \n",
    "Consider driving a race car around a turn like those shown in Figure 5.5. You want to go as fast as possible, but not so fast as to run off the track. In our simplified racetrack, the car is at one of a discrete set of grid positions, the cells in the diagram. \n",
    "* The velocity is also discrete, a number of grid cells moved horizontally and vertically per time step. \n",
    "* The actions are increments to the velocity components. Each may be changed by +1, −1, or 0 in one step, for a total of nine actions. \n",
    "* Both velocity components are restricted to be nonnegative and less than 5, and they cannot both be zero except at the starting line. \n",
    "* Each episode begins in one of the randomly selected start states with both velocity components zero and ends when the car crosses the finish line. \n",
    "* The rewards are −1 for each step until the car crosses the finish line. \n",
    "* If the car hits the track boundary, it is moved back to a random position on the starting line, both velocity components are reduced to zero, and the episode continues. \n",
    "* Before updating the car’s location at each time step, check to see if the projected path of the car intersects the track boundary. If it intersects the finish line, the episode ends; if it intersects anywhere else, the car is considered to have hit the track boundary and is sent back to the starting line. \n",
    "* To make the task more challenging, with probability 0.1 at each time step the velocity increments are both zero, independently of the intended increments. \n",
    "\n",
    "Apply a Monte Carlo control method to this task to compute the optimal policy from each starting state. Exhibit several trajectories following the optimal policy (but turn the noise off for these trajectories).\n",
    "\n",
    "<img src=\"racetrack.png\" width=\"600\">"
   ]
  },
  {
   "cell_type": "code",
   "execution_count": 13,
   "metadata": {},
   "outputs": [],
   "source": [
    "from numpy import genfromtxt\n",
    "import numpy as np\n",
    "import matplotlib.pyplot as plt\n",
    "from matplotlib.colors import ListedColormap\n",
    "import os\n",
    "\n",
    "CELL_TYPE_WALL = 0\n",
    "CELL_TYPE_TRACK = 1\n",
    "CELL_TYPE_GOAL = 2\n",
    "CELL_TYPE_START = 3\n",
    "\n",
    "class RaceTrack:\n",
    "    def __init__(self, track, max_vel=5, min_vel=-5):\n",
    "        self.track = track\n",
    "        self.wall_cells = np.argwhere(track == CELL_TYPE_WALL)\n",
    "        self.goal_cells = np.argwhere(track == CELL_TYPE_GOAL)\n",
    "        self.start_cells = np.argwhere(track == CELL_TYPE_START)\n",
    "        self.max_vel = max_vel\n",
    "        self.min_vel = min_vel\n",
    "        self.colors = ['black', 'white', 'yellow', 'red']\n",
    "    \n",
    "    @classmethod\n",
    "    def from_csv(cls, file_path):\n",
    "        \n",
    "        file_path = os.path.join(os.getcwd(), file_path)\n",
    "        \n",
    "        track = genfromtxt(file_path, delimiter=',')\n",
    "\n",
    "        return cls(track) \n",
    "    \n",
    "    def actions(self, state):\n",
    "        actions = [[a_x, a_y] for a_x in range(-1,2) for a_y in range(-1,2)]\n",
    "        legal_actions = []\n",
    "        \n",
    "        _, _, v_x, v_y = state\n",
    "        \n",
    "        # Discard illegal actions\n",
    "        for a in actions:\n",
    "            a_x, a_y = a\n",
    "            # Cannot go above speed limit in any x direction\n",
    "            if v_x + a_x < self.min_vel or v_x + a_x > self.max_vel:\n",
    "                continue\n",
    "            # Cannot go above speed limit in any y direction\n",
    "            if v_y + a_y < self.min_vel or v_y + a_y > self.max_vel:\n",
    "                continue\n",
    "            # Cannot noop\n",
    "            if v_x + a_x == 0 and v_y + a_y == 0:\n",
    "                continue\n",
    "            legal_actions.append(a)\n",
    "        return legal_actions\n",
    "    \n",
    "    def apply_action(self, state, action):\n",
    "        y, x, v_y, v_x = state\n",
    "        a_y, a_x = action\n",
    "        \n",
    "        v_y_new = v_y + a_y\n",
    "        v_x_new = v_x + a_x\n",
    "                \n",
    "        path = projected_path((y, x), (v_y_new, v_x_new))\n",
    "        \n",
    "        terminated = self.crossed_finish_line(path)\n",
    "            \n",
    "        if not terminated and self.crossed_track_boundary(path):\n",
    "            start_cell_idx = np.random.choice(self.track.start_cells.shape[0], 1, replace=False)\n",
    "            start_cell = self.track.start_cells[start_cell_idx[0], :]\n",
    "            start_state = np.concatenate([start_cell, [0,0]])     \n",
    "        \n",
    "        y_new = y + v_y\n",
    "        x_new = x + v_x\n",
    "        \n",
    "        return np.array([y_new, x_new, v_y_new, v_x_new]), -1, terminated\n",
    "        \n",
    "    def projected_path(self, state, speed):\n",
    "        # TODO: Should we only consider end state directly?\n",
    "        y, x = state\n",
    "        v_y, v_x = speed\n",
    "        \n",
    "        y_new = y + v_y\n",
    "        x_new = x + v_x\n",
    "        \n",
    "        path = []        \n",
    "        for dy in range(min(y, y_new), max(y, y_new) + 1):\n",
    "            for dx in range(min(x, x_new), max(x, x_new) + 1):\n",
    "                path.append((dy,dx))\n",
    "        return path\n",
    "        \n",
    "    def crossed_track_boundary(self, projected_path):        \n",
    "        for cell in projected_path:   \n",
    "            y, x = cell\n",
    "            if y < 0 or y > self.track.shape[0] or x < 0 or x > self.track.shape[1] or cell in self.wall_cells:\n",
    "                return True\n",
    "        return False\n",
    "    \n",
    "    def crossed_finish_line(self, projected_path):\n",
    "        for cell in projected_path:\n",
    "            if cell in self.goal_cells:\n",
    "                return True\n",
    "        return False  \n",
    "        \n",
    "    def draw(self, car_cell=None, path=[]):\n",
    "        fig=plt.figure(figsize=(10, 10), dpi=80, facecolor='w', edgecolor='k')\n",
    "        \n",
    "        im = plt.imshow(self.track, cmap=ListedColormap(self.colors), origin='lower', interpolation='none', animated=True)\n",
    "        \n",
    "        def rect(pos, edgecolor='k', facecolor='none'):\n",
    "            r = plt.Rectangle(pos, 1,1, facecolor=facecolor, edgecolor=edgecolor, linewidth=2)\n",
    "            plt.gca().add_patch(r)\n",
    "            \n",
    "        for i in range(self.track.shape[0]):\n",
    "            for j in range(self.track.shape[1]):\n",
    "                rect((j-0.5,i-0.5))\n",
    "                \n",
    "        if path:\n",
    "            for cell in path:\n",
    "                rect((cell[1]-0.5, cell[0]-0.5), edgecolor='g')\n",
    "        \n",
    "        if car_cell:\n",
    "            rect((car_cell[1]-0.5, car_cell[0]-0.5), edgecolor='g', facecolor='g')\n",
    "            \n",
    "        plt.gca().invert_yaxis()\n",
    "        return im\n",
    "        "
   ]
  },
  {
   "cell_type": "code",
   "execution_count": 14,
   "metadata": {},
   "outputs": [],
   "source": [
    "rt = RaceTrack.from_csv(\"../racetracks/map1.csv\")"
   ]
  },
  {
   "cell_type": "code",
   "execution_count": 15,
   "metadata": {},
   "outputs": [
    {
     "data": {
      "text/plain": [
       "[(4, 8), (4, 9), (4, 10), (5, 8), (5, 9), (5, 10), (6, 8), (6, 9), (6, 10)]"
      ]
     },
     "execution_count": 15,
     "metadata": {},
     "output_type": "execute_result"
    }
   ],
   "source": [
    "path = rt.projected_path((6,8),(-2,2))\n",
    "path"
   ]
  },
  {
   "cell_type": "code",
   "execution_count": 16,
   "metadata": {},
   "outputs": [
    {
     "data": {
      "text/plain": [
       "<matplotlib.image.AxesImage at 0x10caf9da0>"
      ]
     },
     "execution_count": 16,
     "metadata": {},
     "output_type": "execute_result"
    },
    {
     "data": {
      "image/png": "[encoded data removed]",
      "text/plain": [
       "<Figure size 800x800 with 1 Axes>"
      ]
     },
     "metadata": {},
     "output_type": "display_data"
    }
   ],
   "source": [
    "rt.draw((6,8),path)"
   ]
  },
  {
   "cell_type": "code",
   "execution_count": 316,
   "metadata": {},
   "outputs": [],
   "source": [
    "import random\n",
    "class OffPolicyMonteCarloAgent:\n",
    "    def __init__(self, track, gamma = 1, n_episodes=100000):\n",
    "        self.track = track\n",
    "        self.gamma = gamma\n",
    "        self.n_episodes = n_episodes\n",
    "                \n",
    "        # Initialize Q values and C values\n",
    "        state_track_y_range = track.track.shape[0]\n",
    "        state_track_x_range = track.track.shape[1]\n",
    "        state_y_vel_range = track.max_vel - track.min_vel + 1\n",
    "        state_x_vel_range = track.max_vel - track.min_vel + 1\n",
    "        action_y_acc_range = 3 # -1, 0, +1\n",
    "        action_x_acc_range = 3 # -1, 0, +1\n",
    "        \n",
    "        # State-action (Q) space\n",
    "        # Initial state-action values\n",
    "        q_shape = (state_track_y_range, state_track_x_range, state_y_vel_range, state_x_vel_range, action_y_acc_range, action_x_acc_range)\n",
    "        self.Q = np.zeros(q_shape)\n",
    "        \n",
    "        # State (C) space\n",
    "        c_shape = (state_track_y_range, state_track_x_range, state_y_vel_range, state_x_vel_range)\n",
    "        # Initial C values\n",
    "        self.C = np.zeros(c_shape)\n",
    "        \n",
    "        # Initial Policy\n",
    "        # For each state: choose a random action from the set of allowed actions in the given state\n",
    "        self.pi = np.empty(c_shape, dtype=object)\n",
    "        for y in range(state_track_y_range):\n",
    "            for x in range(state_track_x_range):\n",
    "                for v_y in range(self.track.min_vel, self.track.max_vel + 1):\n",
    "                    for v_x in range(self.track.min_vel, self.track.max_vel + 1):\n",
    "                        self.pi[y, x, v_y, v_x] = random.choice(self.track.actions([y, x, v_y, v_x]))\n",
    "                        \n",
    "    def solve_track(self):\n",
    "        it = 0\n",
    "        while True:\n",
    "            b = self.pi\n",
    "            \n",
    "            # Generate an episode using soft policy b\n",
    "            S, A, R = self.generate_episode(b)\n",
    "            G = 0\n",
    "            W = 1\n",
    "            print('Episode n:{}\\t Steps required:{}'.format(it, len(S))\n",
    "            for t in range(len(S) - 1, -1, -1):\n",
    "                  G = self.gamma * G + R[t]\n",
    "                  self.C[]\n",
    "                  \n",
    "            \n",
    "    def generate_episode(self, pi):\n",
    "        S = []\n",
    "        A = []\n",
    "        R = []\n",
    "        \n",
    "        # Select the initial state randomly\n",
    "        start_cell_idx = np.random.choice(self.track.start_cells.shape[0], 1, replace=False)\n",
    "        start_cell = self.track.start_cells[start_cell_idx[0], :]\n",
    "        start_state = np.concatenate([start_cell, [0,0]])\n",
    "        S.append(start_state)\n",
    "        \n",
    "        t = 0\n",
    "        while True:\n",
    "            a = pi[S[t]]\n",
    "            A.append(a)\n",
    "        \n",
    "            state, reward, terminated = self.track.apply_action(S[t], A[t])\n",
    "            R.append(reward)\n",
    "            \n",
    "            if terminated:\n",
    "                break\n",
    "            S.append(state)\n",
    "            t += 1\n",
    "        return S, A, R\n",
    "    \n",
    "    \n",
    "            \n",
    "            "
   ]
  },
  {
   "cell_type": "code",
   "execution_count": 157,
   "metadata": {},
   "outputs": [],
   "source": [
    "agent = OffPolicyMonteCarloAgent(rt)"
   ]
  },
  {
   "cell_type": "code",
   "execution_count": 158,
   "metadata": {},
   "outputs": [],
   "source": [
    "agent.generate_episode(None)"
   ]
  },
  {
   "cell_type": "code",
   "execution_count": null,
   "metadata": {},
   "outputs": [],
   "source": []
  },
  {
   "cell_type": "code",
   "execution_count": null,
   "metadata": {},
   "outputs": [],
   "source": []
  }
 ],
 "metadata": {
  "kernelspec": {
   "display_name": "Python 3",
   "language": "python",
   "name": "python3"
  },
  "language_info": {
   "codemirror_mode": {
    "name": "ipython",
    "version": 3
   },
   "file_extension": ".py",
   "mimetype": "text/x-python",
   "name": "python",
   "nbconvert_exporter": "python",
   "pygments_lexer": "ipython3",
   "version": "3.7.3"
  }
 },
 "nbformat": 4,
 "nbformat_minor": 2
}
