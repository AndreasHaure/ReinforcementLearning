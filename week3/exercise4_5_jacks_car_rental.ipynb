{
 "cells": [
  {
   "cell_type": "code",
   "execution_count": 2,
   "metadata": {},
   "outputs": [],
   "source": [
    "import numpy as np\n",
    "import sys\n",
    "from itertools import combinations_with_replacement\n",
    "from scipy import stats"
   ]
  },
  {
   "cell_type": "markdown",
   "metadata": {},
   "source": [
    "# Jacks Car Rental - Figure 4.1"
   ]
  },
  {
   "cell_type": "code",
   "execution_count": 92,
   "metadata": {},
   "outputs": [],
   "source": [
    "# This is copy paste from another solution to speed up poisson calculations\n",
    "poisson_cache = {}\n",
    "def poisson(k, k_max, lam):\n",
    "    \"\"\"Truncated Poisson distribution\"\"\"\n",
    "    global poisson_cache\n",
    "    if (k, k_max, lam) in poisson_cache:\n",
    "        return poisson_cache[(k, k_max, lam)]\n",
    "\n",
    "    if k < k_max:\n",
    "        p = stats.poisson.pmf(k, lam)\n",
    "    elif k == k_max:\n",
    "        # basically it's mass of the right tail\n",
    "        p = 1 - stats.poisson.cdf(k_max-1, lam)\n",
    "    else:\n",
    "        assert False, 'k > k_max'\n",
    "    \n",
    "    poisson_cache[(k, k_max, lam)] = p\n",
    "    return p"
   ]
  },
  {
   "cell_type": "code",
   "execution_count": 93,
   "metadata": {},
   "outputs": [],
   "source": [
    "class JacksCarRentalMDP:\n",
    "    def __init__(self, \n",
    "                 rental_reward=10, \n",
    "                 move_cost=2, \n",
    "                 expected_req1=3, \n",
    "                 expected_req2=4,\n",
    "                 expected_ret1=3,\n",
    "                 expected_ret2=2,\n",
    "                 max_parked=20,\n",
    "                 max_move=5,\n",
    "                 gamma=0.9,\n",
    "                 theta=1.0):\n",
    "        self.rental_reward = rental_reward # Reward for renting out a car\n",
    "        self.move_cost = move_cost         # Cost of moving a car from one location to another\n",
    "        self.expected_req1 = expected_req1 # Expected car rental requests at first location\n",
    "        self.expected_req2 = expected_req2 # Expected car rental requests at second location\n",
    "        self.expected_ret1 = expected_ret1 # Expected car returns at first location\n",
    "        self.expected_ret2 = expected_ret2 # Expected car returns at second location\n",
    "        self.max_parked = max_parked       # Maximum number of allowed parked cars at each location \n",
    "        self.max_move = max_move           # Maximum number of cars than can be moved from one location to another overnight\n",
    "        self.gamma = gamma\n",
    "        self.theta = theta\n",
    "        \n",
    "        # Initialize policy and state values\n",
    "        # 0-max_parked cars at each location: max_parked x max_parked\n",
    "        self.policy = np.zeros((self.max_parked + 1, self.max_parked + 1), dtype=int)\n",
    "        self.values = np.zeros((self.max_parked + 1, self.max_parked + 1), dtype=float)\n",
    "        \n",
    "    def states(self):\n",
    "        # Iterator over all states (max_parked x max_parked)\n",
    "        # We could also just return a list of tuples instead. The generator is just to save memory.\n",
    "        for n1 in range(self.max_parked + 1):\n",
    "            for n2 in range(self.max_parked + 1):\n",
    "                yield n1, n2\n",
    "        \n",
    "    def transitions(self, n_cars, req_expected, ret_expected):\n",
    "        \"\"\"\n",
    "        Iterator over all possible transitions from a given number of cars for a given location\n",
    "        Args:\n",
    "            n_cars: Number of cars currently at the location\n",
    "            req_expected: Expected number of car rental requests at the given location\n",
    "            ret_expected: Expected number of car returns at the given location\n",
    "        \"\"\"\n",
    "        p_total = 0.0\n",
    "        \n",
    "        # Requests can range from 0 to n_cars at a location\n",
    "        for requests in range(n_cars + 1):\n",
    "            # Calculate probability of \"requests\" car rental requests \n",
    "            p_requests = poisson(requests, n_cars, req_expected)\n",
    "            # The maximal number of car returns is maximum number of cars that can be parked at the location -\n",
    "            # (number of cars currently parked at the location - number of car rental requests)\n",
    "            max_returns = self.max_parked - (n_cars - requests)\n",
    "            \n",
    "            # Returns can range from 0 to max_returns at a location.\n",
    "            # We cannot receive more cars than we have leftover room for.\n",
    "            for returns in range(max_returns + 1):\n",
    "                # Calculate probability of \"returns\" car returns\n",
    "                p_returns = poisson(returns, max_returns, ret_expected)\n",
    "                \n",
    "                # Add environment response outcome (requests, returns) along with their probabilities\n",
    "                yield requests, p_requests, returns, p_returns\n",
    "                \n",
    "                # Book keeping: Confirm that the total probability over all request x response outcomes sums to 1\n",
    "                p_total += p_requests * p_returns\n",
    "        assert np.allclose(p_total, 1.0), 'Total probability must be 1.0'\n",
    "    \n",
    "    def actions(self, n1, n2):\n",
    "        \"\"\"\n",
    "        Iterator over all actions in state.\n",
    "        Positive actions represent moves from first location to second location\n",
    "        Negative actions represent moves from second location to first location\n",
    "        Args:\n",
    "            n1: Number of cars currently at first location\n",
    "            n2: Number of cars currently at second location\n",
    "        \"\"\"\n",
    "        assert n1 <= self.max_parked\n",
    "        assert n2 <= self.max_parked\n",
    "        \n",
    "        # Iterate over number of cars to move from first location to second location\n",
    "        # We can move anything between 0 and the minimum of the number of cars currently present at the \n",
    "        # first location and max_move\n",
    "        for a in range(min(n1, self.max_move) + 1):\n",
    "            # We iterate until we end up moving more cars than there's free room for at the second location\n",
    "            if (a + n2) > self.max_parked:\n",
    "                break\n",
    "            yield a\n",
    "        \n",
    "        # Iterate over number of cars to move from second location to first location\n",
    "        # We have already covered the action of moving 0 cars, so we start from 1\n",
    "        # We can move anything between 1 and the minimum of the number of cars currently present at the\n",
    "        # second location and max_move\n",
    "        for a in range(1, min(n2, self.max_move) + 1):\n",
    "            # We iterate until we end up moving more cars than there's free room for at the first location\n",
    "            if (a + n1) > self.max_parked:\n",
    "                break\n",
    "            yield -a\n",
    "            \n",
    "    def q_value(self, n1, n2, action):\n",
    "        \"\"\"\n",
    "        Calculates the q_value for a given state (n1, n2)-pair and action\n",
    "        \"\"\"\n",
    "        \n",
    "        # Start out subtracting costs of moving the cars suggested by the action\n",
    "        q = -self.move_cost * abs(action)\n",
    "        \n",
    "        # Number of cars left at each location following the action\n",
    "        n1_after = n1 - action\n",
    "        n2_after = n2 + action\n",
    "        assert n1_after >= 0, 'n1_after >= 0'\n",
    "        assert n2_after >= 0, 'n2_after >= 0'\n",
    "        assert n1_after <= self.max_parked, 'n1_after <= self.max_parked'\n",
    "        assert n2_after <= self.max_parked, 'n2_after <= self.max_parked'\n",
    "        \n",
    "        # Calculate the environments response following the action\n",
    "        # Iterate over all request, response outcomes given the number of cars left at first location\n",
    "        for req1, p_req1, ret1, p_ret1 in self.transitions(n1_after, self.expected_req1, self.expected_ret1):\n",
    "            # Iterate over all request, response outcomes given the number of cars left at second location\n",
    "            for req2, p_req2, ret2, p_ret2 in self.transitions(n2_after, self.expected_req2, self.expected_ret2):\n",
    "                \n",
    "                # Multiply all request and response probabilities to get the total probability for the transition\n",
    "                p_next_state = p_req1 * p_ret1 * p_req2 * p_ret2\n",
    "                \n",
    "                # Total reward for the action is the total requests at both locations multiplied by the reward per car\n",
    "                r = self.rental_reward * (req1 + req2)\n",
    "                \n",
    "                n1_next = n1_after - req1 + ret1\n",
    "                n2_next = n2_after - req2 + ret2\n",
    "                \n",
    "                assert n1_next >= 0, 'n1_next >= 0'\n",
    "                assert n2_next >= 0, 'n2_next >= 0'\n",
    "                assert n1_next <= self.max_parked, 'n1_next <= self.max_parked'\n",
    "                assert n2_next <= self.max_parked, 'n2_next <= self.max_parked'\n",
    "                \n",
    "                q += p_next_state * (r + self.values[n1_next, n2_next] * self.gamma)\n",
    "        return q\n",
    "    \n",
    "    def policy_evaluation(self):\n",
    "        while True:\n",
    "            values_new = np.zeros_like(self.values)\n",
    "            for n1, n2 in self.states():\n",
    "                action = self.policy[n1, n2]\n",
    "                q = self.q_value(n1, n2, action)\n",
    "                values_new[n1, n2] = q\n",
    "            \n",
    "            delta = np.max(np.abs(values_new - self.values))\n",
    "            self.values = values_new\n",
    "            sys.stdout.write('.')\n",
    "            if delta < self.theta:\n",
    "                break\n",
    "        sys.stdout.write('\\n')\n",
    "                \n",
    "    def policy_improvement(self):\n",
    "        policy_stable = True\n",
    "        for n1, n2 in self.states():\n",
    "            actions = list(self.actions(n1, n2))\n",
    "            qs = list(map(lambda a: self.q_value(n1, n2, a), actions))\n",
    "            a_max = actions[np.argmax(qs)]\n",
    "            if self.policy[n1, n2] != a_max:\n",
    "                policy_stable = False\n",
    "                self.policy[n1, n2] = a_max\n",
    "        return policy_stable\n",
    "    \n",
    "    def policy_iteration(self):\n",
    "        it = 0\n",
    "        policy_stable = False\n",
    "        while not policy_stable:\n",
    "            print(\"Policy Iteration {}\".format(it))\n",
    "            self.policy_evaluation()\n",
    "            policy_stable = self.policy_improvement()\n",
    "            it += 1\n",
    "        print('Policy Iteration converged after {} iterations'.format(it))\n",
    "        \n",
    "            "
   ]
  },
  {
   "cell_type": "code",
   "execution_count": 94,
   "metadata": {},
   "outputs": [
    {
     "name": "stdout",
     "output_type": "stream",
     "text": [
      "Policy Iteration 0\n",
      "......................................\n",
      "Policy Iteration 1\n",
      ".........\n",
      "Policy Iteration 2\n",
      ".........\n",
      "Policy Iteration 3\n",
      "..\n",
      "Policy Iteration 4\n",
      ".\n",
      "Policy Iteration 5\n",
      ".\n",
      "Policy Iteration converged after 6 iterations\n"
     ]
    }
   ],
   "source": [
    "mdp1 = JacksCarRentalMDP(max_parked=20)\n",
    "mdp1.policy_iteration()"
   ]
  },
  {
   "cell_type": "code",
   "execution_count": 95,
   "metadata": {},
   "outputs": [],
   "source": [
    "import pickle\n",
    "with open('jacks_car_rental_mdp.pkl', \"wb\") as f:\n",
    "    pickle.dump(mdp1, f)"
   ]
  },
  {
   "cell_type": "code",
   "execution_count": 98,
   "metadata": {},
   "outputs": [],
   "source": [
    "import matplotlib.pyplot as plt\n",
    "def visualize(mdp):\n",
    "    height = mdp.policy.shape[0]\n",
    "    width = mdp.policy.shape[1]\n",
    "    \n",
    "    y_ticks = np.arange(height) + 0.5\n",
    "    x_ticks = np.arange(width) + 0.5\n",
    "    y_labels = np.arange(height + 1)\n",
    "    x_labels = np.arange(width + 1)\n",
    "\n",
    "    fig, axs = plt.subplots(1, 2, figsize=(16, 6))    \n",
    "    ax = axs[0]\n",
    "    pc = ax.pcolor(mdp.policy)\n",
    "    fig.colorbar(pc, ax=ax)\n",
    "    ax.set_yticks(y_ticks)\n",
    "    ax.set_xticks(x_ticks)\n",
    "    ax.set_yticklabels(y_labels)\n",
    "    ax.set_xticklabels(x_labels)\n",
    "    ax.set_title('policy')\n",
    "    \n",
    "    ax = axs[1]\n",
    "    pc = ax.pcolor(mdp.values)\n",
    "    fig.colorbar(pc, ax=ax)\n",
    "    ax.set_yticks(y_ticks)\n",
    "    ax.set_xticks(x_ticks)\n",
    "    ax.set_yticklabels(y_labels)\n",
    "    ax.set_xticklabels(x_labels)\n",
    "    ax.set_title('values')\n",
    "    \n",
    "    plt.show()"
   ]
  },
  {
   "cell_type": "code",
   "execution_count": 99,
   "metadata": {},
   "outputs": [
    {
     "data": {
      "image/png": "[encoded data removed]",
      "text/plain": [
       "<Figure size 1152x432 with 4 Axes>"
      ]
     },
     "metadata": {
      "needs_background": "light"
     },
     "output_type": "display_data"
    }
   ],
   "source": [
    "visualize(mdp1)"
   ]
  },
  {
   "cell_type": "markdown",
   "metadata": {},
   "source": [
    "# Jacks Car Rental - Exercise 4.7\n",
    "\n",
    "Changes to the original problem\n",
    "* One of Jack's employees is able to move __one__ car from location 1 to location 2 each night for free\n",
    "* If more than 10 cars are kept overnight at a location (after any moving of cars) then an additional cost of 4 dollars must be incurred to use extra parking space independent of the extra number of cars."
   ]
  },
  {
   "cell_type": "code",
   "execution_count": 102,
   "metadata": {},
   "outputs": [],
   "source": [
    "class JacksCarRentalModifiedMDP(JacksCarRentalMDP):\n",
    "    def __init__(self, *args, free_1to2_moves=1, extra_parking_lot_threshold=10, extra_parking_lot_cost=4, **kwargs):\n",
    "        super().__init__(*args, **kwargs)\n",
    "        self.free_1to2_moves = free_1to2_moves\n",
    "        self.extra_parking_lot_threshold = extra_parking_lot_threshold\n",
    "        self.extra_parking_lot_cost = extra_parking_lot_cost\n",
    "        \n",
    "    def q_value(self, n1, n2, action):\n",
    "        q = 0.0\n",
    "        if action < 0:\n",
    "            # If the action will move at least one car from location 1 to location 2, then use the free move\n",
    "            q -= self.move_cost * (abs(action) - self.free_1to2_moves)\n",
    "        else:\n",
    "            q -= self.move_cost * abs(action)\n",
    "            \n",
    "        n1_after = n1 - action\n",
    "        n2_after = n2 + action\n",
    "        \n",
    "        if n1_after > self.extra_parking_lot_threshold:\n",
    "            # pay for extra parking lot\n",
    "            q -= self.extra_parking_lot_cost\n",
    "            \n",
    "        if n2_after > self.extra_parking_lot_threshold:\n",
    "            # pay for extra parking lot\n",
    "            q -= self.extra_parking_lot_cost\n",
    "            \n",
    "        assert n1_after >= 0, 'n1_after >= 0'\n",
    "        assert n2_after >= 0, 'n2_after >= 0'\n",
    "        assert n1_after <= self.max_parked, 'n1_after <= self.max_parked'\n",
    "        assert n2_after <= self.max_parked, 'n2_after <= self.max_parked'\n",
    "        \n",
    "        for req1, p_req1, ret1, p_ret1 in self.transitions(n1_after, self.expected_req1, self.expected_ret1):\n",
    "            for req2, p_req2, ret2, p_ret2 in self.transitions(n2_after, self.expected_req2, self.expected_ret2):\n",
    "                \n",
    "                p_next_state = p_req1 * p_ret1 * p_req2 * p_ret2\n",
    "                r = self.rental_reward * (req1 + req2)\n",
    "                \n",
    "                n1_next = n1_after - req1 + ret1\n",
    "                n2_next = n2_after - req2 + ret2\n",
    "                \n",
    "                assert n1_next >= 0, 'n1_next >= 0'\n",
    "                assert n2_next >= 0, 'n2_next >= 0'\n",
    "                assert n1_next <= self.max_parked, 'n1_next <= self.max_parked'\n",
    "                assert n2_next <= self.max_parked, 'n2_next <= self.max_parked'\n",
    "                \n",
    "                q += p_next_state * (r + self.values[n1_next, n2_next] * self.gamma)\n",
    "        return q"
   ]
  },
  {
   "cell_type": "code",
   "execution_count": 104,
   "metadata": {},
   "outputs": [
    {
     "name": "stdout",
     "output_type": "stream",
     "text": [
      "Policy Iteration 0\n",
      "......................................\n",
      "Policy Iteration 1\n",
      "............\n",
      "Policy Iteration 2\n",
      "..........\n",
      "Policy Iteration 3\n",
      "..\n",
      "Policy Iteration 4\n",
      ".\n",
      "Policy Iteration converged after 5 iterations\n"
     ]
    }
   ],
   "source": [
    "mdp2 = JacksCarRentalModifiedMDP(max_parked=20)\n",
    "mdp2.policy_iteration()"
   ]
  },
  {
   "cell_type": "code",
   "execution_count": 105,
   "metadata": {},
   "outputs": [],
   "source": [
    "import pickle\n",
    "with open('jacks_car_rental_mdp2.pkl', \"wb\") as f:\n",
    "    pickle.dump(mdp2, f)"
   ]
  },
  {
   "cell_type": "code",
   "execution_count": 106,
   "metadata": {},
   "outputs": [
    {
     "data": {
      "image/png": "[encoded data removed]",
      "text/plain": [
       "<Figure size 1152x432 with 4 Axes>"
      ]
     },
     "metadata": {
      "needs_background": "light"
     },
     "output_type": "display_data"
    }
   ],
   "source": [
    "visualize(mdp2)"
   ]
  },
  {
   "cell_type": "code",
   "execution_count": null,
   "metadata": {},
   "outputs": [],
   "source": []
  }
 ],
 "metadata": {
  "kernelspec": {
   "display_name": "Python 3",
   "language": "python",
   "name": "python3"
  },
  "language_info": {
   "codemirror_mode": {
    "name": "ipython",
    "version": 3
   },
   "file_extension": ".py",
   "mimetype": "text/x-python",
   "name": "python",
   "nbconvert_exporter": "python",
   "pygments_lexer": "ipython3",
   "version": "3.7.3"
  }
 },
 "nbformat": 4,
 "nbformat_minor": 2
}
