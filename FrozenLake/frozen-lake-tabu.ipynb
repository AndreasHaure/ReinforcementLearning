{
 "cells": [
  {
   "cell_type": "code",
   "execution_count": 11,
   "metadata": {},
   "outputs": [],
   "source": [
    "import numpy as np\n",
    "import math\n",
    "import gym\n",
    "import random\n",
    "import time\n",
    "from matplotlib import pyplot as plt\n",
    "from IPython.display import clear_output\n",
    "import seaborn as sns; sns.set()"
   ]
  },
  {
   "cell_type": "code",
   "execution_count": 7,
   "metadata": {},
   "outputs": [],
   "source": [
    "env = gym.make(\"FrozenLake-v0\")"
   ]
  },
  {
   "cell_type": "code",
   "execution_count": 21,
   "metadata": {},
   "outputs": [
    {
     "name": "stdout",
     "output_type": "stream",
     "text": [
      "********Play 5000 episodes********\n",
      "\n",
      "Play episodes 1-1000\n",
      "Play episodes 1001-2000\n",
      "Play episodes 2001-3000\n",
      "Play episodes 3001-4000\n",
      "Play episodes 4001-5000\n",
      "\n",
      "********Average reward per thousand episodes********\n",
      "\n",
      "1000 :  0.0\n",
      "2000 :  0.0\n",
      "3000 :  0.0\n",
      "4000 :  0.0\n",
      "5000 :  0.0\n",
      "\n",
      "\n",
      "********Q-table********\n",
      "\n",
      "[[0. 0. 0. 0.]\n",
      " [0. 0. 0. 0.]\n",
      " [0. 0. 0. 0.]\n",
      " [0. 0. 0. 0.]\n",
      " [0. 0. 0. 0.]\n",
      " [0. 0. 0. 0.]\n",
      " [0. 0. 0. 0.]\n",
      " [0. 0. 0. 0.]\n",
      " [0. 0. 0. 0.]\n",
      " [0. 0. 0. 0.]\n",
      " [0. 0. 0. 0.]\n",
      " [0. 0. 0. 0.]\n",
      " [0. 0. 0. 0.]\n",
      " [0. 0. 0. 0.]\n",
      " [0. 0. 0. 0.]\n",
      " [0. 0. 0. 0.]]\n",
      "\n",
      "\n",
      "********Most visited states********\n",
      "\n"
     ]
    },
    {
     "data": {
      "image/png": "[encoded data removed]",
      "text/plain": [
       "<Figure size 432x288 with 2 Axes>"
      ]
     },
     "metadata": {},
     "output_type": "display_data"
    }
   ],
   "source": [
    "# Q-learning algorithm\n",
    "\n",
    "action_space_size = env.action_space.n\n",
    "state_space_size = env.observation_space.n\n",
    "num_episodes = 5000\n",
    "max_steps_per_episode = 100\n",
    "\n",
    "learning_rate = 0.1\n",
    "discount_rate = 0.99\n",
    "\n",
    "exploration_rate = 1\n",
    "max_exploration_rate = 1\n",
    "min_exploration_rate = 0.01\n",
    "exploration_decay_rate = 0.01\n",
    "\n",
    "q_table = np.zeros((state_space_size, action_space_size))\n",
    "softmax = lambda x: (math.e ** x) / sum(math.e ** x)\n",
    "visits = np.zeros(state_space_size)\n",
    "choices = np.ones((state_space_size, action_space_size))\n",
    "\n",
    "rewards_all_episodes = []\n",
    "\n",
    "print(f'********Play {num_episodes} episodes********\\n')\n",
    "\n",
    "for episode in range(num_episodes):\n",
    "    # initialize new episode params\n",
    "    state = env.reset()\n",
    "    rewards_current_episode = 0.0\n",
    "    \n",
    "    \n",
    "    if episode % 1000 == 0:\n",
    "        print(f'Play episodes {episode+1}-{episode+1000}')\n",
    "\n",
    "    for step in range(max_steps_per_episode): \n",
    "       \n",
    "    \n",
    "        # Exploration-exploitation trade-off\n",
    "        if random.uniform(0, 1) > exploration_rate:\n",
    "            action = np.argmax(q_table[state,:]) \n",
    "        else:\n",
    "            # Increase likelyhood of choosing under-visited actions\n",
    "            a = choices[state] / sum(choices[state])\n",
    "            action_prob = softmax(-a)\n",
    "            action = random.choices(np.arange(env.action_space.n), action_prob)[0]\n",
    "            #action = env.action_space.sample()\n",
    "        \n",
    "        # Take new action\n",
    "        new_state, reward, done, info = env.step(action)\n",
    "        # Update Q-table\n",
    "        q_table[state, action] = \\\n",
    "            q_table[state, action] * (1 - learning_rate) \\\n",
    "            + learning_rate * (reward + discount_rate * np.max(q_table[new_state, :]))\n",
    "        # Set new state\n",
    "        state = new_state\n",
    "        # Add new reward        \n",
    "        rewards_current_episode += reward\n",
    "        \n",
    "        # Update counters\n",
    "        visits[state] += 1\n",
    "        choices[state][action] += 1\n",
    "\n",
    "        # final logic\n",
    "        if done == True: \n",
    "            break\n",
    "\n",
    "    # Exploration rate decay   \n",
    "    exploration_rate = \\\n",
    "        min_exploration_rate \\\n",
    "        + (max_exploration_rate - min_exploration_rate) * np.exp(-exploration_decay_rate*episode)\n",
    "                               \n",
    "    # Add current episode reward to total rewards list\n",
    "    rewards_all_episodes.append(rewards_current_episode)\n",
    "\n",
    "# Calculate and print the average reward per thousand episodes\n",
    "rewards_per_thosand_episodes = np.split(np.array(rewards_all_episodes),num_episodes/1000)\n",
    "count = 1000\n",
    "\n",
    "print()\n",
    "print(\"********Average reward per thousand episodes********\\n\")\n",
    "for r in rewards_per_thosand_episodes:\n",
    "    print(count, \": \", str(sum(r/1000)))\n",
    "    count += 1000\n",
    "\n",
    "# Print updated Q-table\n",
    "print(\"\\n\\n********Q-table********\\n\")\n",
    "print(q_table)\n",
    "\n",
    "print(\"\\n\\n********Most visited states********\\n\")\n",
    "ax = sns.heatmap(visits.reshape([4,4]), cmap='bone')\n",
    "plt.show()"
   ]
  },
  {
   "cell_type": "code",
   "execution_count": 202,
   "metadata": {},
   "outputs": [
    {
     "data": {
      "image/png": "[encoded data removed]",
      "text/plain": [
       "<Figure size 432x288 with 2 Axes>"
      ]
     },
     "metadata": {},
     "output_type": "display_data"
    }
   ],
   "source": [
    "ax = sns.heatmap(np.max(q_table, axis=1).reshape([4,4]), cmap='bone')"
   ]
  },
  {
   "cell_type": "code",
   "execution_count": 181,
   "metadata": {},
   "outputs": [
    {
     "name": "stdout",
     "output_type": "stream",
     "text": [
      "Average reward: 0.0\n"
     ]
    }
   ],
   "source": [
    "# Watch our agent play Frozen Lake by playing the best action \n",
    "# from each state according to the Q-table\n",
    "\n",
    "L = [1,0,0,0]\n",
    "D = [0,1,0,0]\n",
    "R = [0,0,1,0]\n",
    "U = [0,0,0,1]\n",
    "\"\"\"\n",
    "    S,F,F,F\n",
    "    F,H,F,H\n",
    "    F,F,F,H\n",
    "    H,F,F,G\n",
    "\"\"\"\n",
    "q_table_hard = np.array([\n",
    "    L,U,L,U,\n",
    "    L,L,R,L,\n",
    "    U,D,L,L,\n",
    "    U,R,D,L,\n",
    "])\n",
    "\n",
    "q_table_learned = np.array([\n",
    "    L,U,L,L,\n",
    "    L,L,R,L,\n",
    "    U,D,L,L,\n",
    "    L,R,D,L,\n",
    "])\n",
    "\n",
    "# ↑ ← ← ← ↑ ↑ ↑ ↑ ← → ↑ ↑ ↑ ↓ → ↑\n",
    "q_table_siraj = np.array([\n",
    "    L,L,L,U,\n",
    "    U,U,U,U,\n",
    "    L,R,U,U,\n",
    "    U,D,R,U,\n",
    "])\n",
    "\n",
    "played_rewards = [] \n",
    "played_episodes = 3000\n",
    "wait_short = 0.0005\n",
    "wait_long = 0.0005\n",
    "wait_longer = 0.005\n",
    "\n",
    "Q = q_table_siraj\n",
    "#Q = q_table_hard\n",
    "#Q = q_table_learned\n",
    "\n",
    "\n",
    "env.reset()\n",
    "for episode in range(played_episodes):\n",
    "    # initialize new episode params\n",
    "    state = env.reset()\n",
    "    episode_total_reward = 0.0\n",
    "    done = False\n",
    "    #print(\"*****EPISODE \", episode+1, \"*****\\n\\n\\n\\n\")\n",
    "    #time.sleep(wait_longer)\n",
    "    \n",
    "    for step in range(10000):        \n",
    "        # Show current state of environment on screen\n",
    "        #clear_output(wait=True)\n",
    "        #env.render()\n",
    "        #time.sleep(wait_short)\n",
    "        # Choose action with highest Q-value for current state \n",
    "        action = np.argmax(Q[state,:]) \n",
    "        # Take new action\n",
    "        new_state, reward, done, info = env.step(action)\n",
    "        episode_total_reward += reward\n",
    "        # Done?\n",
    "        if done:\n",
    "            #clear_output(wait=True)\n",
    "            #env.render()\n",
    "            if reward == 1:\n",
    "                pass\n",
    "                #print(\"****You reached the goal!****\")\n",
    "            else:\n",
    "                pass\n",
    "                #print(\"****You fell through a hole!****\")\n",
    "            #time.sleep(wait_longer)\n",
    "            #clear_output(wait=True)\n",
    "\n",
    "            break\n",
    "        # Set new state\n",
    "        state = new_state\n",
    "    played_rewards.append(episode_total_reward)\n",
    "print(f'Average reward: {np.mean(played_rewards)}')\n",
    "env.close()"
   ]
  },
  {
   "cell_type": "code",
   "execution_count": 108,
   "metadata": {},
   "outputs": [
    {
     "name": "stdout",
     "output_type": "stream",
     "text": [
      "np.array(\n",
      "[\n",
      "L,\n",
      "U,\n",
      "L,\n",
      "L,\n",
      "L,\n",
      "L,\n",
      "R,\n",
      "L,\n",
      "U,\n",
      "D,\n",
      "L,\n",
      "L,\n",
      "L,\n",
      "R,\n",
      "D,\n",
      "L,\n",
      "])\n"
     ]
    }
   ],
   "source": [
    "vals = ['L', 'D', 'R', 'U']\n",
    "print('np.array(\\n[')\n",
    "for x in q_table:\n",
    "    print(f'{vals[np.argmax(x)]},')\n",
    "print('])')\n",
    "#print('np.array(\\n', q_table_learned, '\\n)')"
   ]
  },
  {
   "cell_type": "code",
   "execution_count": 9,
   "metadata": {},
   "outputs": [
    {
     "data": {
      "text/plain": [
       "4"
      ]
     },
     "execution_count": 9,
     "metadata": {},
     "output_type": "execute_result"
    }
   ],
   "source": [
    "env.action_space.n"
   ]
  },
  {
   "cell_type": "code",
   "execution_count": null,
   "metadata": {},
   "outputs": [],
   "source": []
  }
 ],
 "metadata": {
  "kernelspec": {
   "display_name": "Python (p3-ai)",
   "language": "python",
   "name": "p3-ai"
  },
  "language_info": {
   "codemirror_mode": {
    "name": "ipython",
    "version": 3
   },
   "file_extension": ".py",
   "mimetype": "text/x-python",
   "name": "python",
   "nbconvert_exporter": "python",
   "pygments_lexer": "ipython3",
   "version": "3.6.8"
  }
 },
 "nbformat": 4,
 "nbformat_minor": 2
}
